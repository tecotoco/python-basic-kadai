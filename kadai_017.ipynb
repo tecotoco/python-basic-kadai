{
  "nbformat": 4,
  "nbformat_minor": 0,
  "metadata": {
    "colab": {
      "provenance": []
    },
    "kernelspec": {
      "name": "python3",
      "display_name": "Python 3"
    },
    "language_info": {
      "name": "python"
    }
  },
  "cells": [
    {
      "cell_type": "code",
      "execution_count": 2,
      "metadata": {
        "colab": {
          "base_uri": "https://localhost:8080/"
        },
        "id": "mxlL-uPD-KA-",
        "outputId": "40867bc3-f5a8-4202-ed83-d3959abc9c6f"
      },
      "outputs": [
        {
          "output_type": "stream",
          "name": "stdout",
          "text": [
            "大人です。\n",
            "大人です。\n",
            "大人ではありません。\n",
            "大人です。\n",
            "大人ではありません。\n"
          ]
        }
      ],
      "source": [
        "class Human:\n",
        "  def __init__(self, name, age):\n",
        "    self.name = name\n",
        "    self.age = age\n",
        "\n",
        "  def check_adult(self):\n",
        "    if self.age >= 20:\n",
        "      print(\"大人です。\")\n",
        "    else:\n",
        "      print(\"大人ではありません。\")\n",
        "\n",
        "human1 = Human(\"侍太郎\", 36)\n",
        "human2 = Human(\"侍一郎\", 33)\n",
        "human3 = Human(\"侍二郎\", 15)\n",
        "human4 = Human(\"侍三郎\", 25)\n",
        "human5 = Human(\"侍四郎\", 9)\n",
        "\n",
        "list = [human1, human2, human3, human4, human5]\n",
        "for human in list:\n",
        "  human.check_adult()"
      ]
    }
  ]
}