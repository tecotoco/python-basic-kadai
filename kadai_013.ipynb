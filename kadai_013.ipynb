{
  "nbformat": 4,
  "nbformat_minor": 0,
  "metadata": {
    "colab": {
      "provenance": []
    },
    "kernelspec": {
      "name": "python3",
      "display_name": "Python 3"
    },
    "language_info": {
      "name": "python"
    }
  },
  "cells": [
    {
      "cell_type": "code",
      "execution_count": 1,
      "metadata": {
        "colab": {
          "base_uri": "https://localhost:8080/"
        },
        "id": "ok_m0rjYRLyz",
        "outputId": "7c8b947e-1980-48ee-fef4-a519ba4c4690"
      },
      "outputs": [
        {
          "output_type": "stream",
          "name": "stdout",
          "text": [
            "1100.0\n"
          ]
        }
      ],
      "source": [
        "def calculate_tax(price, tax):\n",
        "  total = price * (1 + tax/100)\n",
        "  print(total)\n",
        "\n",
        "calculate_tax(1000, 10)"
      ]
    }
  ]
}