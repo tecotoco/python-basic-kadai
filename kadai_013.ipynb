{
  "nbformat": 4,
  "nbformat_minor": 0,
  "metadata": {
    "colab": {
      "provenance": []
    },
    "kernelspec": {
      "name": "python3",
      "display_name": "Python 3"
    },
    "language_info": {
      "name": "python"
    }
  },
  "cells": [
    {
      "cell_type": "code",
      "execution_count": 1,
      "metadata": {
        "colab": {
          "base_uri": "https://localhost:8080/"
        },
        "id": "ok_m0rjYRLyz",
        "outputId": "1e7b2a8b-3dbf-4325-f147-c874543851cb"
      },
      "outputs": [
        {
          "output_type": "stream",
          "name": "stdout",
          "text": [
            "1100.0\n"
          ]
        }
      ],
      "source": [
        "def calculate_tax(price, tax):\n",
        "  total = price * (1 + tax/100)\n",
        "  return total\n",
        "\n",
        "print(calculate_tax(1000, 10))"
      ]
    }
  ]
}